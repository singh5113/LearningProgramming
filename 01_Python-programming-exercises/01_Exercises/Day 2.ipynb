{
 "cells": [
  {
   "cell_type": "markdown",
   "id": "9ef2cec1",
   "metadata": {},
   "source": [
    "# Day 2 \n",
    "\n",
    "---\n",
    "\n",
    "#### Task 5\n",
    "\n",
    "> Define a class which has at least two methods:\n",
    "> + getString: to get a string from console input\n",
    "> + printString: to print the string in upper case.\n",
    "> \n",
    "> Also please include simple test function to test the class methods.\n",
    "\n",
    "#### My Solution"
   ]
  },
  {
   "cell_type": "code",
   "execution_count": 11,
   "id": "7dfc9f2a",
   "metadata": {},
   "outputs": [
    {
     "name": "stdout",
     "output_type": "stream",
     "text": [
      "Hello World!\n",
      "Hello World!\n"
     ]
    }
   ],
   "source": [
    "class InputString:\n",
    "    def __init__(self):\n",
    "        pass\n",
    "    def getString(self):\n",
    "        self.string = input()\n",
    "    def printString(self):\n",
    "        print(self.string)\n",
    "x = InputString()\n",
    "\n",
    "x.getString()\n",
    "x.printString()"
   ]
  },
  {
   "cell_type": "markdown",
   "id": "77112a61",
   "metadata": {},
   "source": [
    "#### Solution "
   ]
  },
  {
   "cell_type": "code",
   "execution_count": 12,
   "id": "b6fa780d",
   "metadata": {},
   "outputs": [
    {
     "name": "stdout",
     "output_type": "stream",
     "text": [
      "Hello World!\n"
     ]
    }
   ],
   "source": [
    "class IOstring:\n",
    "    def __init__(self):\n",
    "        pass\n",
    "\n",
    "    def get_string(self):\n",
    "        self.s = input()\n",
    "\n",
    "    def print_string(self):\n",
    "        print(self.s.upper())\n",
    "\n",
    "\n",
    "xx = IOstring()\n",
    "xx.get_string()"
   ]
  },
  {
   "cell_type": "markdown",
   "id": "6717f54e",
   "metadata": {},
   "source": [
    "---\n",
    "\n",
    "#### Task 6\n",
    "\n",
    "> Write a program that calculates and prints the value according to the given formula:\n",
    ">\n",
    "> Q = Square root of [(2 C D)/H]\n",
    ">\n",
    "> Following are the fixed values of C and H:\n",
    ">\n",
    "> C is 50. H is 30.\n",
    ">\n",
    "> D is the variable whose values should be input to your program in a comma-separated sequence.For example Let us assume the following comma separated input sequence is given to the program:\n",
    "```\n",
    "100,150,180\n",
    "```\n",
    "> The output of the program should be:\n",
    "```\n",
    "18,22,24\n",
    "```\n",
    "#### My Solution"
   ]
  },
  {
   "cell_type": "code",
   "execution_count": 20,
   "id": "6c959a15",
   "metadata": {},
   "outputs": [
    {
     "name": "stdout",
     "output_type": "stream",
     "text": [
      "100,150,180\n",
      "[18, 22, 24]\n"
     ]
    }
   ],
   "source": [
    "import math\n",
    "\n",
    "def equation(D,C=50,H=30):\n",
    "    return math.sqrt((2*C*D)/H)\n",
    "\n",
    "D_list = input().split(',')\n",
    "result_list = []\n",
    "\n",
    "for D in D_list:\n",
    "    result_list.append(round(equation(int(D))))\n",
    "    \n",
    "print(result_list)\n",
    "\n"
   ]
  },
  {
   "cell_type": "markdown",
   "id": "300e8b07",
   "metadata": {},
   "source": [
    "#### Solution"
   ]
  },
  {
   "cell_type": "code",
   "execution_count": 21,
   "id": "26c2509f",
   "metadata": {},
   "outputs": [
    {
     "name": "stdout",
     "output_type": "stream",
     "text": [
      "100,150,180\n",
      "18,22,24\n"
     ]
    }
   ],
   "source": [
    "\n",
    "from math import sqrt\n",
    "\n",
    "C, H = 50, 30\n",
    "\n",
    "\n",
    "def calc(D):\n",
    "    return sqrt((2 * C * D) / H)\n",
    "\n",
    "\n",
    "D = input().split(\",\")  # splits in comma position and set up in list\n",
    "D = [\n",
    "    str(round(calc(int(i)))) for i in D\n",
    "]  # using comprehension method. It works in order of the previous code\n",
    "print(\",\".join(D))"
   ]
  },
  {
   "cell_type": "markdown",
   "id": "42bc6f31",
   "metadata": {},
   "source": [
    "---\n",
    "\n",
    "#### Task 7\n",
    "\n",
    "> Write a program which takes 2 digits, X,Y as input and generates a 2-dimensional array. The element value in the i-th row and j-th column of the array should be i j.*\n",
    ">\n",
    "> Note: i=0,1.., X-1; j=0,1,¡­Y-1. Suppose the following inputs are given to the program: 3,5\n",
    ">\n",
    "> Then, the output of the program should be:\n",
    "\n",
    "```\n",
    "[[0, 0, 0, 0, 0], [0, 1, 2, 3, 4], [0, 2, 4, 6, 8]]\n",
    "```\n",
    "\n",
    "#### My Solution"
   ]
  },
  {
   "cell_type": "code",
   "execution_count": 26,
   "id": "f8c8c679",
   "metadata": {},
   "outputs": [
    {
     "name": "stdout",
     "output_type": "stream",
     "text": [
      "3,5\n"
     ]
    },
    {
     "data": {
      "text/plain": [
       "[[0, 0, 0, 0, 0], [0, 1, 2, 3, 4], [0, 2, 4, 6, 8]]"
      ]
     },
     "execution_count": 26,
     "metadata": {},
     "output_type": "execute_result"
    }
   ],
   "source": [
    "def createMatrix(str_list):\n",
    "    int_list = [int(i) for i in str_list.split(',')]\n",
    "    \n",
    "    final_matrix = []\n",
    "    for i in range(int_list[0]):\n",
    "        matrix = []\n",
    "        for j in range(int_list[1]):\n",
    "            matrix.append(i*j)\n",
    "        final_matrix.extend([matrix])\n",
    "            \n",
    "    return final_matrix\n",
    "\n",
    "createMatrix(input())"
   ]
  },
  {
   "cell_type": "markdown",
   "id": "ff197904",
   "metadata": {},
   "source": [
    "#### Solution"
   ]
  },
  {
   "cell_type": "code",
   "execution_count": 27,
   "id": "4dfd48da",
   "metadata": {},
   "outputs": [
    {
     "name": "stdout",
     "output_type": "stream",
     "text": [
      "3,5\n",
      "[[0, 0, 0, 0, 0], [0, 1, 2, 3, 4], [0, 2, 4, 6, 8]]\n"
     ]
    }
   ],
   "source": [
    "# list comprehension + map function \n",
    "x, y = map(int, input().split(\",\"))\n",
    "lst = [[i * j for j in range(y)] for i in range(x)]\n",
    "print(lst)"
   ]
  },
  {
   "cell_type": "markdown",
   "id": "83857a1b",
   "metadata": {},
   "source": [
    "---\n",
    "\n",
    "#### Task 8\n",
    "\n",
    "> Write a program that accepts a comma separated sequence of words as input and prints the words in a comma-separated sequence after sorting them alphabetically.\n",
    "> \n",
    "> Suppose the following input is supplied to the program:\n",
    "```\n",
    "without,hello,bag,world\n",
    "```\n",
    "> Then, the output should be:\n",
    "```\n",
    "bag,hello,without,world\n",
    "```\n",
    "\n",
    "#### My Solution"
   ]
  },
  {
   "cell_type": "code",
   "execution_count": 29,
   "id": "9e358999",
   "metadata": {},
   "outputs": [
    {
     "name": "stdout",
     "output_type": "stream",
     "text": [
      "without,hello,bag,world\n",
      "bag,hello,without,world\n"
     ]
    }
   ],
   "source": [
    "def sortString(initial_string):\n",
    "    # split initial string\n",
    "    lst = initial_string.split(',')\n",
    "    # sort the list of words\n",
    "    lst_sorted = sorted(lst)\n",
    "    # join word into new string\n",
    "    final_string = ','.join(lst_sorted)\n",
    "    return final_string\n",
    "print(sortString(input()))"
   ]
  },
  {
   "cell_type": "markdown",
   "id": "9e0c6644",
   "metadata": {},
   "source": [
    "#### Solution"
   ]
  },
  {
   "cell_type": "code",
   "execution_count": 30,
   "id": "39d1340d",
   "metadata": {},
   "outputs": [
    {
     "name": "stdout",
     "output_type": "stream",
     "text": [
      "without,hello,bag,world\n",
      "bag,hello,without,world\n"
     ]
    }
   ],
   "source": [
    "lst = input().split(\",\")\n",
    "lst.sort()\n",
    "print(\",\".join(lst))"
   ]
  }
 ],
 "metadata": {
  "kernelspec": {
   "display_name": "Python 3",
   "language": "python",
   "name": "python3"
  },
  "language_info": {
   "codemirror_mode": {
    "name": "ipython",
    "version": 3
   },
   "file_extension": ".py",
   "mimetype": "text/x-python",
   "name": "python",
   "nbconvert_exporter": "python",
   "pygments_lexer": "ipython3",
   "version": "3.7.3"
  }
 },
 "nbformat": 4,
 "nbformat_minor": 5
}
