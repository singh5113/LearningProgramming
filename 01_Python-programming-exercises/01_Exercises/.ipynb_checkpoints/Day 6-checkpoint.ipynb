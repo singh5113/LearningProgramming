{
 "cells": [
  {
   "cell_type": "markdown",
   "id": "9ef2cec1",
   "metadata": {},
   "source": [
    "# Day 6\n",
    "\n",
    "---\n",
    "\n",
    "#### Task 18\n",
    "\n",
    "> A website requires the users to input username and password to register. Write a program to check the validity of password input by users.\n",
    "> \n",
    "> Following are the criteria for checking the password:\n",
    "\n",
    "+ At least 1 letter between [a-z]\n",
    "+ At least 1 number between [0-9]\n",
    "+ At least 1 letter between [A-Z]\n",
    "+ At least 1 character from [$#@]\n",
    "+ Minimum length of transaction password: 6\n",
    "+ Maximum length of transaction password: 12\n",
    "\n",
    "> Your program should accept a sequence of comma separated passwords and will check them according to the above criteria. Passwords that match the criteria are to be printed, each separated by a comma.\n",
    ">\n",
    "> Example\n",
    ">\n",
    "> If the following passwords are given as input to the program:\n",
    "\n",
    "ABd1234@1,a F1#,2w3E*,2We3345\n",
    "\n",
    "> Then, the output of the program should be:\n",
    "\n",
    "ABd1234@1"
   ]
  },
  {
   "cell_type": "markdown",
   "id": "77112a61",
   "metadata": {},
   "source": [
    "#### My Solution "
   ]
  },
  {
   "cell_type": "code",
   "execution_count": 48,
   "id": "b6fa780d",
   "metadata": {},
   "outputs": [
    {
     "name": "stdout",
     "output_type": "stream",
     "text": [
      "Input a List of possible Passwords: ABd1234@1,a F1#,2w3E*,2We3345\n",
      "Valid Passwords:  ABd1234@1\n"
     ]
    }
   ],
   "source": [
    "import string\n",
    "passwords = input('Input a List of possible Passwords: ').split(',')\n",
    "valid_passwords = []\n",
    "for password in passwords:\n",
    "    check = {'lowCase':0, 'uppCase': 0, 'digit': 0, 'punctioation': 0, 'minLen': 0, 'maxLen': 0}\n",
    "    for letter in list(password):\n",
    "        if letter in string.ascii_lowercase:\n",
    "            check['lowCase'] = 1\n",
    "        if letter in string.ascii_uppercase:\n",
    "            check['uppCase'] = 1\n",
    "        if letter in string.digits:\n",
    "            check['digit'] = 1\n",
    "        if letter in string.punctuation:\n",
    "            check['punctioation'] = 1\n",
    "    if len(password)>6:\n",
    "        check['minLen'] = 1\n",
    "    if len(password)<12:\n",
    "        check['maxLen'] = 1\n",
    "    if all(value == 1 for value in check.values()):\n",
    "        valid_passwords.append(password)\n",
    "print('Valid Passwords: ', ','.join(valid_passwords))"
   ]
  },
  {
   "cell_type": "markdown",
   "id": "83527bf3",
   "metadata": {},
   "source": [
    "#### Solution "
   ]
  },
  {
   "cell_type": "code",
   "execution_count": 49,
   "id": "74631ada",
   "metadata": {},
   "outputs": [
    {
     "name": "stdout",
     "output_type": "stream",
     "text": [
      "Enter passwords: ABd1234@1,a F1#,2w3E*,2We3345\n",
      "ABd1234@1\n"
     ]
    }
   ],
   "source": [
    "'''Solution by: pratikb0501\n",
    "'''\n",
    "import re\n",
    "a = input('Enter passwords: ').split(',')\n",
    "pass_pattern = re.compile(r\"^(?=.*[0-9])(?=.*[a-z])(?=.*[A-Z])(?=.*[$#@]).{6,12}$\")\n",
    "for i in a:\n",
    "    if pass_pattern.fullmatch(i):\n",
    "        print(i)"
   ]
  },
  {
   "cell_type": "markdown",
   "id": "6769754c",
   "metadata": {},
   "source": [
    "---\n",
    "\n",
    "#### Task 19\n",
    "\n",
    "> You are required to write a program to sort the (name, age, score) tuples by ascending order where name is string, age and score are numbers. The tuples are input by console. The sort criteria is:\n",
    "\n",
    "+ 1: Sort based on name\n",
    "+ 2: Then sort based on age\n",
    "+ 3: Then sort by score\n",
    "\n",
    ">The priority is that name > age > score.\n",
    ">\n",
    "> If the following tuples are given as input to the program:\n",
    "\n",
    "```\n",
    "Tom,19,80\n",
    "John,20,90\n",
    "Jony,17,91\n",
    "Jony,17,93\n",
    "Json,21,85\n",
    "```\n",
    "\n",
    "> Then, the output of the program should be:\n",
    "\n",
    "```\n",
    "[('John', '20', '90'), ('Jony', '17', '91'), ('Jony', '17', '93'), ('Json', '21', '85'), ('Tom', '19','80')]\n",
    "```"
   ]
  },
  {
   "cell_type": "code",
   "execution_count": 58,
   "id": "902c203f",
   "metadata": {},
   "outputs": [
    {
     "name": "stdout",
     "output_type": "stream",
     "text": [
      "Tom,19,80\n",
      "John,20,90\n",
      "Jony,17,91\n",
      "Jony,17,93\n",
      "Json,21,85\n",
      "\n",
      "[('John', '20', '90'), ('Jony', '17', '91'), ('Jony', '17', '93'), ('Json', '21', '85'), ('Tom', '19', '80')]\n"
     ]
    }
   ],
   "source": [
    "persons = list()\n",
    "while True:\n",
    "    person = input().split(',')\n",
    "    if person[0] == '':\n",
    "        break\n",
    "    persons.append(tuple(person))\n",
    "persons.sort(key= lambda person: (person[0], int(person[1]), int(person[2])))\n",
    "print(persons)"
   ]
  }
 ],
 "metadata": {
  "kernelspec": {
   "display_name": "Python 3",
   "language": "python",
   "name": "python3"
  },
  "language_info": {
   "codemirror_mode": {
    "name": "ipython",
    "version": 3
   },
   "file_extension": ".py",
   "mimetype": "text/x-python",
   "name": "python",
   "nbconvert_exporter": "python",
   "pygments_lexer": "ipython3",
   "version": "3.7.3"
  }
 },
 "nbformat": 4,
 "nbformat_minor": 5
}
