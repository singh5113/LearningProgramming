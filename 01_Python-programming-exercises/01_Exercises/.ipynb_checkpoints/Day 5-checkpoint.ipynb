{
 "cells": [
  {
   "cell_type": "markdown",
   "id": "9ef2cec1",
   "metadata": {},
   "source": [
    "# Day 5\n",
    "\n",
    "---\n",
    "\n",
    "#### Task 14\n",
    "\n",
    "> Write a program that accepts a sentence and calculate the number of upper case letters and lower case letters.\n",
    ">\n",
    "> Suppose the following input is supplied to the program:\n",
    "\n",
    "Hello world!\n",
    "\n",
    "> Then, the output should be:\n",
    "\n",
    "UPPER CASE 1\n",
    "\n",
    "LOWER CASE 9"
   ]
  },
  {
   "cell_type": "markdown",
   "id": "77112a61",
   "metadata": {},
   "source": [
    "#### My Solution "
   ]
  },
  {
   "cell_type": "code",
   "execution_count": 3,
   "id": "b6fa780d",
   "metadata": {},
   "outputs": [
    {
     "name": "stdout",
     "output_type": "stream",
     "text": [
      "Hello world!\n",
      "UPPER CASE: 1 \n",
      "LOWER CASE: 9\n"
     ]
    }
   ],
   "source": [
    "import string\n",
    "ipt = input()\n",
    "num_upper = 0\n",
    "num_lower = 0\n",
    "for i in ipt:\n",
    "    if i in string.ascii_uppercase:\n",
    "        num_upper += 1\n",
    "    if i in string.ascii_lowercase:\n",
    "        num_lower += 1\n",
    "print(f'UPPER CASE: {num_upper} \\nLOWER CASE: {num_lower}')"
   ]
  },
  {
   "cell_type": "markdown",
   "id": "3acc83a7",
   "metadata": {},
   "source": [
    "#### Other Solutions"
   ]
  },
  {
   "cell_type": "code",
   "execution_count": 4,
   "id": "b330ffc7",
   "metadata": {},
   "outputs": [
    {
     "name": "stdout",
     "output_type": "stream",
     "text": [
      "Enter the sentenseHello world!\n",
      "UPPER CASE:  1\n",
      "LOWER CASE:  9\n"
     ]
    }
   ],
   "source": [
    "\n",
    "# solution by Amitewu\n",
    "\n",
    "string = input(\"Enter the sentense\")\n",
    "upper = 0\n",
    "lower = 0\n",
    "for x in string:\n",
    "    if x.isupper():\n",
    "        upper += 1\n",
    "    if x.islower():\n",
    "        lower += 1\n",
    "\n",
    "print(\"UPPER CASE: \", upper)\n",
    "print(\"LOWER CASE: \", lower)"
   ]
  },
  {
   "cell_type": "markdown",
   "id": "279507d9",
   "metadata": {},
   "source": [
    "\n",
    "---\n",
    "\n",
    "#### Task 15\n",
    "\n",
    "> Write a program that computes the value of a+aa+aaa+aaaa with a given digit as the value of a.\n",
    ">\n",
    "> Suppose the following input is supplied to the program:\n",
    "\n",
    "9\n",
    "\n",
    "> Then, the output should be:\n",
    "\n",
    "11106"
   ]
  },
  {
   "cell_type": "markdown",
   "id": "77112a61",
   "metadata": {},
   "source": [
    "#### My Solution "
   ]
  },
  {
   "cell_type": "code",
   "execution_count": 10,
   "id": "664ee37a",
   "metadata": {},
   "outputs": [
    {
     "name": "stdout",
     "output_type": "stream",
     "text": [
      "Input a Number:9\n",
      "11106\n"
     ]
    }
   ],
   "source": [
    "def func(ipt):\n",
    "    return 1234 * int(ipt) # summarized the equation\n",
    "print(func(input('Input a Number:')))"
   ]
  },
  {
   "cell_type": "markdown",
   "id": "a259c0a1",
   "metadata": {},
   "source": [
    "#### Other Solutions"
   ]
  },
  {
   "cell_type": "code",
   "execution_count": 11,
   "id": "cc5a2042",
   "metadata": {},
   "outputs": [
    {
     "name": "stdout",
     "output_type": "stream",
     "text": [
      "9\n",
      "11106\n"
     ]
    }
   ],
   "source": [
    "# a more literal way \n",
    "a = input()\n",
    "total, tmp = 0, str()  # initialing an integer and empty string\n",
    "\n",
    "for i in range(4):\n",
    "    tmp += a  # concatenating 'a' to 'tmp'\n",
    "    total += int(tmp)  # converting string type to integer type\n",
    "\n",
    "print(total)"
   ]
  },
  {
   "cell_type": "markdown",
   "id": "9ef2cec1",
   "metadata": {},
   "source": [
    "\n",
    "---\n",
    "\n",
    "#### Task 16\n",
    "\n",
    "> Use a list comprehension to square each odd number in a list. The list is input by a sequence of  comma-separated numbers. \n",
    ">\n",
    ">Suppose the following input is supplied to the program:\n",
    "\n",
    "1,2,3,4,5,6,7,8,9\n",
    "\n",
    "> Then, the output should be:\n",
    "\n",
    "1,9,25,49,81"
   ]
  },
  {
   "cell_type": "code",
   "execution_count": 21,
   "id": "4f846222",
   "metadata": {},
   "outputs": [
    {
     "name": "stdout",
     "output_type": "stream",
     "text": [
      "Input a comma seperated List: 1,2,3,4,5,6,7,8,9\n",
      "1,9,25,49,81\n"
     ]
    }
   ],
   "source": [
    "ipt = list(map(int, input('Input a comma seperated List: ').split(',')))\n",
    "\n",
    "square_odd = [str(x**2) for x in ipt if x%2!=0]\n",
    "\n",
    "print(','.join(square_odd))"
   ]
  },
  {
   "cell_type": "markdown",
   "id": "9ef2cec1",
   "metadata": {},
   "source": [
    "\n",
    "---\n",
    "\n",
    "#### Task 17\n",
    "\n",
    "> Write a program that computes the net amount of a bank account based a transaction log from console input. The transaction log format is shown as following:\n",
    "\n",
    "D 100 \\\n",
    "W 200 \n",
    "+ D means deposit while W means withdrawal.\n",
    "> Suppose the following input is supplied to the program:\n",
    "\n",
    "D 300 \\\n",
    "D 300 \\\n",
    "W 200 \\\n",
    "D 100 \n",
    "> Then, the output should be:\n",
    "\n",
    "500\n"
   ]
  },
  {
   "cell_type": "code",
   "execution_count": 34,
   "id": "36c3001b",
   "metadata": {},
   "outputs": [
    {
     "name": "stdout",
     "output_type": "stream",
     "text": [
      "D 300 D 300 W 200 D 100\n",
      "500\n"
     ]
    }
   ],
   "source": [
    "log = input().split(' ')\n",
    "balance = 0\n",
    "for i in range(len(log)):\n",
    "    if log[i] == 'D':\n",
    "        balance += int(log[i+1])\n",
    "    elif log[i] == 'W':\n",
    "        balance -= int(log[i+1])\n",
    "\n",
    "print(balance)"
   ]
  },
  {
   "cell_type": "markdown",
   "id": "dfeae60c",
   "metadata": {},
   "source": [
    "#### Other Solution \n",
    "\n",
    "+ with continuous inputs "
   ]
  },
  {
   "cell_type": "code",
   "execution_count": 38,
   "id": "5b3db77d",
   "metadata": {},
   "outputs": [
    {
     "name": "stdout",
     "output_type": "stream",
     "text": [
      "Input Changes to the Account: D 300\n",
      "Input Changes to the Account: D 300\n",
      "Input Changes to the Account: W 200\n",
      "Input Changes to the Account: D 100\n",
      "Input Changes to the Account: done\n",
      "500\n"
     ]
    }
   ],
   "source": [
    "account = []\n",
    "\n",
    "while True:\n",
    "    x = input('Input Changes to the Account: ')\n",
    "    if x =='done':\n",
    "        break\n",
    "    account.append(x)\n",
    "    \n",
    "balance = 0\n",
    "for change in account:\n",
    "    if 'D' in change:\n",
    "        balance += int(change.strip('D '))\n",
    "    if 'W' in change:\n",
    "        balance -= int(change.strip('W '))\n",
    "\n",
    "print(balance)\n",
    "    "
   ]
  }
 ],
 "metadata": {
  "kernelspec": {
   "display_name": "Python 3",
   "language": "python",
   "name": "python3"
  },
  "language_info": {
   "codemirror_mode": {
    "name": "ipython",
    "version": 3
   },
   "file_extension": ".py",
   "mimetype": "text/x-python",
   "name": "python",
   "nbconvert_exporter": "python",
   "pygments_lexer": "ipython3",
   "version": "3.7.3"
  }
 },
 "nbformat": 4,
 "nbformat_minor": 5
}
