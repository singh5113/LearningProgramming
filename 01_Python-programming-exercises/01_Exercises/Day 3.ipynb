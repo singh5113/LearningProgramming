{
 "cells": [
  {
   "cell_type": "markdown",
   "id": "9ef2cec1",
   "metadata": {},
   "source": [
    "# Day 3\n",
    "\n",
    "---\n",
    "\n",
    "#### Task 9\n",
    "\n",
    "> Write a program that accepts sequence of lines as input and prints the lines after making all characters in the sentence capitalized.\n",
    "\n",
    "> Suppose the following input is supplied to the program:\n",
    "\n",
    "Hello world\n",
    "\n",
    "Practice makes perfect\n",
    "\n",
    "> Then, the output should be:\n",
    "\n",
    "HELLO WORLD\n",
    "\n",
    "PRACTICE MAKES PERFECT"
   ]
  },
  {
   "cell_type": "markdown",
   "id": "77112a61",
   "metadata": {},
   "source": [
    "#### My Solution "
   ]
  },
  {
   "cell_type": "code",
   "execution_count": 29,
   "id": "b6fa780d",
   "metadata": {},
   "outputs": [
    {
     "name": "stdout",
     "output_type": "stream",
     "text": [
      "Hello world\n",
      "Practise makes perfect!\n",
      "\n",
      "['HELLO WORLD', 'PRACTISE MAKES PERFECT!']\n"
     ]
    }
   ],
   "source": [
    "from operator import methodcaller\n",
    "lst = []\n",
    "\n",
    "while True:\n",
    "    ipt = input()\n",
    "    if ipt == '':\n",
    "        break\n",
    "    else:\n",
    "        lst.append(ipt)\n",
    "lst_2 = [x.upper() for x in lst]\n",
    "\n",
    "print(lst_2)"
   ]
  },
  {
   "cell_type": "markdown",
   "id": "1b0d5adf",
   "metadata": {},
   "source": [
    "#### Solution"
   ]
  },
  {
   "cell_type": "code",
   "execution_count": 30,
   "id": "5227131f",
   "metadata": {},
   "outputs": [
    {
     "name": "stdout",
     "output_type": "stream",
     "text": [
      "Hello world\n",
      "HELLO WORLD\n",
      "Practise makes perfect!\n",
      "PRACTISE MAKES PERFECT!\n",
      "\n"
     ]
    }
   ],
   "source": [
    "def user_input():\n",
    "    while True:\n",
    "        s = input()\n",
    "        if not s:\n",
    "            return\n",
    "        yield s\n",
    "\n",
    "\n",
    "for line in map(str.upper, user_input()):\n",
    "    print(line)"
   ]
  },
  {
   "cell_type": "markdown",
   "id": "2859390f",
   "metadata": {},
   "source": [
    "---\n",
    "\n",
    "#### Task 10\n",
    "\n",
    "> Write a program that accepts a sequence of whitespace separated words as input and prints the words after removing all duplicate words and sorting them alphanumerically.\n",
    ">\n",
    "> Suppose the following input is supplied to the program:\n",
    "\n",
    "hello world and practice makes perfect and hello world again\n",
    "\n",
    "> Then, the output should be:\n",
    "\n",
    "again and hello makes perfect practice world"
   ]
  },
  {
   "cell_type": "markdown",
   "id": "860cb596",
   "metadata": {},
   "source": [
    "#### My solution"
   ]
  },
  {
   "cell_type": "code",
   "execution_count": 58,
   "id": "4b84407d",
   "metadata": {},
   "outputs": [
    {
     "name": "stdout",
     "output_type": "stream",
     "text": [
      "hello world and practice makes perfect and hello world again\n",
      "again and hello makes perfect practice world\n"
     ]
    }
   ],
   "source": [
    "def sort_and_drop_duplicates():\n",
    "    ipt = input()\n",
    "    lst = ipt.split(sep=' ')\n",
    "    if len(lst)==1:\n",
    "        return ipt\n",
    "    lst = set(lst)\n",
    "    lst = sorted(list(lst))\n",
    "    return ' '.join(lst)\n",
    "\n",
    "print(sort_and_drop_duplicates())\n",
    "    "
   ]
  },
  {
   "cell_type": "markdown",
   "id": "e2271b49",
   "metadata": {},
   "source": [
    "#### Solution"
   ]
  },
  {
   "cell_type": "code",
   "execution_count": 60,
   "id": "07ad9c2c",
   "metadata": {},
   "outputs": [
    {
     "name": "stdout",
     "output_type": "stream",
     "text": [
      "hello world and practice makes perfect and hello world again\n",
      "again and hello makes perfect practice world\n"
     ]
    }
   ],
   "source": [
    "word = input().split()\n",
    "[word.remove(i) for i in word if word.count(i) > 1]\n",
    "\n",
    "word.sort()\n",
    "print(' '.join(word))"
   ]
  }
 ],
 "metadata": {
  "kernelspec": {
   "display_name": "Python 3",
   "language": "python",
   "name": "python3"
  },
  "language_info": {
   "codemirror_mode": {
    "name": "ipython",
    "version": 3
   },
   "file_extension": ".py",
   "mimetype": "text/x-python",
   "name": "python",
   "nbconvert_exporter": "python",
   "pygments_lexer": "ipython3",
   "version": "3.7.3"
  }
 },
 "nbformat": 4,
 "nbformat_minor": 5
}
